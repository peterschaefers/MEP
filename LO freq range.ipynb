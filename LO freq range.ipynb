{
 "cells": [
  {
   "cell_type": "code",
   "execution_count": 1,
   "id": "9210edae-5a57-429c-a1cd-6a6918e3568f",
   "metadata": {},
   "outputs": [],
   "source": [
    "import numpy as np"
   ]
  },
  {
   "cell_type": "code",
   "execution_count": 11,
   "id": "f885ab9d-02ad-4670-acd3-f3ebf38f02e6",
   "metadata": {},
   "outputs": [],
   "source": [
    "fmin_low = np.array([6.9759,7.0771,7.3878,7.5066,7.6011,7.8229])*1e9\n",
    "fmin_high = np.array([6.9979,7.0971,7.4093,7.5266,7.6186,7.8429])*1e9"
   ]
  },
  {
   "cell_type": "code",
   "execution_count": 16,
   "id": "e9b67b79-2fe8-4d22-8cd5-e8d596cdeff7",
   "metadata": {},
   "outputs": [],
   "source": [
    "fmin_total = np.concatenate((fmin_low,fmin_high))"
   ]
  },
  {
   "cell_type": "code",
   "execution_count": 21,
   "id": "3af96486-8af0-4b16-a299-c4ea4ba7363a",
   "metadata": {},
   "outputs": [
    {
     "name": "stdout",
     "output_type": "stream",
     "text": [
      "LO in [7.3429e+09, 7.4759e+09]\n"
     ]
    }
   ],
   "source": [
    "LO_min = np.max(fmin_total)-500*1e6\n",
    "LO_max = np.min(fmin_total)+500*1e6\n",
    "\n",
    "print(rf\"LO in [{LO_min:g}, {LO_max:g}]\")"
   ]
  },
  {
   "cell_type": "code",
   "execution_count": null,
   "id": "7c1155af-0c78-40cc-b67f-b87a03186942",
   "metadata": {},
   "outputs": [],
   "source": []
  }
 ],
 "metadata": {
  "kernelspec": {
   "display_name": "Python (MEP)",
   "language": "python",
   "name": "mep"
  },
  "language_info": {
   "codemirror_mode": {
    "name": "ipython",
    "version": 3
   },
   "file_extension": ".py",
   "mimetype": "text/x-python",
   "name": "python",
   "nbconvert_exporter": "python",
   "pygments_lexer": "ipython3",
   "version": "3.10.12"
  }
 },
 "nbformat": 4,
 "nbformat_minor": 5
}
