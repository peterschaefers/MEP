{
 "cells": [
  {
   "cell_type": "code",
   "execution_count": 1,
   "id": "5785f62c-9250-4375-8029-3210c7cd3159",
   "metadata": {},
   "outputs": [],
   "source": [
    "import time\n",
    "\n",
    "import adaptive\n",
    "import numpy as np\n",
    "from qcodes import Instrument, ManualParameter\n",
    "from scipy import optimize\n",
    "\n",
    "import quantify_core.analysis.optimization_analysis as oa\n",
    "import quantify_core.visualization.pyqt_plotmon as pqm\n",
    "from quantify_core.analysis.interpolation_analysis import InterpolationAnalysis2D\n",
    "from quantify_core.data.handling import set_datadir, default_datadir\n",
    "from quantify_core.measurement.control import MeasurementControl\n",
    "from quantify_core.visualization.instrument_monitor import InstrumentMonitor"
   ]
  },
  {
   "cell_type": "code",
   "execution_count": 2,
   "id": "19efbb1a-0dfb-4e35-892b-edb5519f1a2d",
   "metadata": {},
   "outputs": [
    {
     "name": "stdout",
     "output_type": "stream",
     "text": [
      "Data will be saved in:\n",
      "/home/pschaefers/quantify-data\n"
     ]
    }
   ],
   "source": [
    "set_datadir(default_datadir())"
   ]
  },
  {
   "cell_type": "code",
   "execution_count": 3,
   "id": "aa03c792-9290-429a-bc64-485eab1d79a3",
   "metadata": {},
   "outputs": [],
   "source": [
    "meas_ctrl = MeasurementControl(\"meas_ctrl\")"
   ]
  },
  {
   "cell_type": "code",
   "execution_count": 4,
   "id": "c5598b1c-bc2b-4a08-a7ef-eca25135da9c",
   "metadata": {},
   "outputs": [
    {
     "data": {
      "text/plain": [
       "<qcodes.parameters.parameter.Parameter: F at 140243144577888>"
      ]
     },
     "execution_count": 4,
     "metadata": {},
     "output_type": "execute_result"
    }
   ],
   "source": [
    "para = Instrument(\"parabola\")\n",
    "\n",
    "para.add_parameter(\"freq\", unit=\"Hz\", label=\"Frequency\", parameter_class=ManualParameter)\n",
    "para.add_parameter(\"ampl\", unit=\"V\", label=\"Amplitude\", parameter_class=ManualParameter)\n",
    "para.add_parameter(\"dur\", unit=\"s\", label=\"Duration\", parameter_class=ManualParameter)\n",
    "\n",
    "# para.add_parameter(\n",
    "#     \"noise\", unit=\"V\", label=\"white noise amplitude\", parameter_class=ManualParameter\n",
    "# )\n",
    "# para.add_parameter(\n",
    "#     \"acq_delay\", initial_value=0.1, unit=\"s\", parameter_class=ManualParameter\n",
    "# )\n",
    "\n",
    "\n",
    "def _amp_model():\n",
    "    time.sleep(\n",
    "        para.acq_delay()\n",
    "    )  # for display purposes, just so we can watch the live plot update\n",
    "    return -para.x() ** 2 - para.y() ** 2 - para.z**2\n",
    "\n",
    "\n",
    "para.add_parameter(\"F\", unit=\"[-]\", label=\"Fidelity\", get_cmd=_amp_model)"
   ]
  },
  {
   "cell_type": "code",
   "execution_count": null,
   "id": "0138ae62-ee99-433f-abf5-c1f47062ea70",
   "metadata": {},
   "outputs": [],
   "source": [
    "def CMAES_adaptive(func, Ngen, popsize, optimizer, deltaFreq, minFreq, deltaAmpl, minAmpl, deltaDur, minDur):\n",
    "    for generation in range(Ngen):  \n",
    "        normalized_mean = optimizer.mean\n",
    "        mean = np.copy(normalized_mean)\n",
    "        \n",
    "        mean[0] = mean[0] * deltaFreq + minFreq\n",
    "        mean[1] = mean[1] * deltaAmpl + minAmpl\n",
    "        mean[2] = mean[2] * deltaDur + minDur\n",
    "    \n",
    "        normalized_freq = np.zeros(popsize)\n",
    "        normalized_ampl = np.zeros(popsize)\n",
    "        normalized_dur = np.zeros(popsize)\n",
    "        \n",
    "        frequencies = np.zeros(popsize)\n",
    "        amplitudes = np.zeros(popsize)\n",
    "        durations = np.zeros(popsize)\n",
    "        \n",
    "        for i in range(popsize):\n",
    "            x = optimizer.ask()\n",
    "            \n",
    "            normalized_freq[i] = x[0]\n",
    "            normalized_ampl[i] = x[1]\n",
    "            normalized_dur[i] = x[2]\n",
    "\n",
    "            frequencies[i] = x[0]*deltaFreq + minFreq\n",
    "            amplitudes[i] = x[1]*deltaAmpl + minAmpl\n",
    "            durations[i] = x[2]*deltaDur + minDur\n",
    "                    \n",
    "        normalized_freq_ampl_and_dur = [(float(xi), float(yi), float(zi)) for xi, yi, zi in zip(normalized_freq, normalized_ampl, normalized_dur)]\n",
    "        freq_ampl_and_dur = np.array([np.array([xi, yi, zi]) for xi, yi, zi in zip(frequencies, amplitudes, durations)])\n",
    "        \n",
    "        # objective_value = objective(freq_ampl_and_dur, meas_freq, meas_ampl, meas_dur, meas_fid) #This needs to be from fun \n",
    "        #I think it shoulde be:\n",
    "        objective_value = func()\n",
    "        \n",
    "        solutions = [(wi, float(vi)) for wi, vi in zip(normalized_freq_ampl_and_dur, objective_value)]\n",
    "        optimizer.tell(solutions)"
   ]
  },
  {
   "cell_type": "code",
   "execution_count": null,
   "id": "b682bd22-bf25-4183-ac8d-27320469fabc",
   "metadata": {},
   "outputs": [],
   "source": [
    "meas_ctrl.settables([para.x, para.y])\n",
    "af_pars = {\n",
    "    \"adaptive_function\": optimize.minimize,  # used by meas_ctrl\n",
    "    \"x0\": [0.5,0.5],  # used by `optimize.minimize` (in this case)\n",
    "    \"method\": \"Nelder-Mead\",  # used by `optimize.minimize` (in this case)\n",
    "    \"options\": {\"maxfev\": 100},  # limit the maximum evaluations of the gettable(s)\n",
    "}\n",
    "para.noise(0.5)\n",
    "meas_ctrl.gettables(para.amp)\n",
    "dset = meas_ctrl.run_adaptive(\"nelder_mead_optimization\", af_pars)"
   ]
  },
  {
   "cell_type": "code",
   "execution_count": null,
   "id": "d510598e-5a5b-457f-a3b6-9f11f11aeea4",
   "metadata": {},
   "outputs": [],
   "source": [
    "def CMAES_adaptive_Old(fun, popsize, optimizer, deltaFreq, minFreq, deltaAmpl, minAmpl, deltaDur, minDur): #optimizer contains the bounds and fun is the gettable (should be the objective function)\n",
    "    normalized_mean = optimizer.mean\n",
    "    mean = np.copy(normalized_mean)\n",
    "    \n",
    "    mean[0] = mean[0] * deltaFreq + minFreq\n",
    "    mean[1] = mean[1] * deltaAmpl + minAmpl\n",
    "    mean[2] = mean[2] * deltaDur + minDur\n",
    "\n",
    "    normalized_freq = np.zeros(popsize)\n",
    "    normalized_ampl = np.zeros(popsize)\n",
    "    normalized_dur = np.zeros(popsize)\n",
    "    \n",
    "    frequencies = np.zeros(popsize)\n",
    "    amplitudes = np.zeros(popsize)\n",
    "    durations = np.zeros(popsize)\n",
    "\n",
    "     for i in range(popsize):\n",
    "        x = optimizer.ask()\n",
    "        \n",
    "        normalized_freq[i] = x[0]\n",
    "        normalized_ampl[i] = x[1]\n",
    "        normalized_dur[i] = x[2]\n",
    "\n",
    "        frequencies[i] = x[0]*deltaFreq + minFreq\n",
    "        amplitudes[i] = x[1]*deltaAmpl + minAmpl\n",
    "        durations[i] = x[2]*deltaDur + minDur\n",
    "                \n",
    "    normalized_freq_ampl_and_dur = [(float(xi), float(yi), float(zi)) for xi, yi, zi in zip(normalized_freq, normalized_ampl, normalized_dur)]\n",
    "    freq_ampl_and_dur = np.array([np.array([xi, yi, zi]) for xi, yi, zi in zip(frequencies, amplitudes, durations)])\n",
    "    objective_value = objective(freq_ampl_and_dur, meas_freq, meas_ampl, meas_dur, meas_fid)\n",
    "\n",
    "    solutions = [(wi, float(vi)) for wi, vi in zip(normalized_freq_ampl_and_dur, objective_value)]\n",
    "    optimizer.tell(solutions)\n",
    "\n",
    "    return freq_ampl_dur\n",
    "\n",
    "    \n",
    "        "
   ]
  }
 ],
 "metadata": {
  "kernelspec": {
   "display_name": "Python (MEP)",
   "language": "python",
   "name": "mep"
  },
  "language_info": {
   "codemirror_mode": {
    "name": "ipython",
    "version": 3
   },
   "file_extension": ".py",
   "mimetype": "text/x-python",
   "name": "python",
   "nbconvert_exporter": "python",
   "pygments_lexer": "ipython3",
   "version": "3.10.12"
  }
 },
 "nbformat": 4,
 "nbformat_minor": 5
}
