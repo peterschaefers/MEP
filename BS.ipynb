{
 "cells": [
  {
   "cell_type": "code",
   "execution_count": 3,
   "id": "80525584-73d6-4601-9118-7094cae7092c",
   "metadata": {},
   "outputs": [],
   "source": [
    "import numpy as np"
   ]
  },
  {
   "cell_type": "code",
   "execution_count": 6,
   "id": "40c2f519-095d-4bc6-ac97-a4b007f097d9",
   "metadata": {},
   "outputs": [
    {
     "name": "stdout",
     "output_type": "stream",
     "text": [
      "[7.42e+09 7.00e-02 7.96e-07 7.42e+09 7.00e-02 7.96e-07]\n"
     ]
    }
   ],
   "source": [
    "x = np.array([[7.37 * 1e9, 7.42 * 1e9], [0.005, 0.07], [4.8 * 1e-08, 7.96 * 1e-07], [7.37 * 1e9, 7.42 * 1e9], [0.005, 0.07], [4.8 * 1e-08, 7.96 * 1e-07]])\n",
    "y = x[:,1]\n",
    "print(y)"
   ]
  },
  {
   "cell_type": "code",
   "execution_count": null,
   "id": "5c254b51-53ee-4558-a259-bf9ca8f34217",
   "metadata": {},
   "outputs": [],
   "source": []
  }
 ],
 "metadata": {
  "kernelspec": {
   "display_name": "Python (MEP)",
   "language": "python",
   "name": "mep"
  },
  "language_info": {
   "codemirror_mode": {
    "name": "ipython",
    "version": 3
   },
   "file_extension": ".py",
   "mimetype": "text/x-python",
   "name": "python",
   "nbconvert_exporter": "python",
   "pygments_lexer": "ipython3",
   "version": "3.10.12"
  }
 },
 "nbformat": 4,
 "nbformat_minor": 5
}
