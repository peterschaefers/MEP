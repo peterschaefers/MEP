{
 "cells": [
  {
   "cell_type": "code",
   "execution_count": 1,
   "id": "80525584-73d6-4601-9118-7094cae7092c",
   "metadata": {},
   "outputs": [],
   "source": [
    "import numpy as np\n",
    "import matplotlib as mpl\n",
    "import xarray as xr\n",
    "from collections import OrderedDict\n",
    "\n",
    "from quantify_core.data.handling import (\n",
    "    load_dataset,\n",
    "    set_datadir,\n",
    "    default_datadir,\n",
    ")\n",
    "\n",
    "import time"
   ]
  },
  {
   "cell_type": "code",
   "execution_count": 2,
   "id": "5c661a39-751e-4dc5-a61a-b6b9e82c9e67",
   "metadata": {},
   "outputs": [
    {
     "name": "stdout",
     "output_type": "stream",
     "text": [
      "Data will be saved in:\n",
      "/home/pschaefers/quantify-data\n"
     ]
    }
   ],
   "source": [
    "set_datadir(default_datadir())"
   ]
  },
  {
   "cell_type": "code",
   "execution_count": 3,
   "id": "5c254b51-53ee-4558-a259-bf9ca8f34217",
   "metadata": {},
   "outputs": [
    {
     "data": {
      "text/plain": [
       "(array([0, 0, 0, 0, 0, 0, 0, 1, 1, 1, 1, 1, 1, 1, 0, 0, 0, 0, 0, 0, 0, 1,\n",
       "        1, 1, 1, 1, 1, 1, 0, 0, 0, 0, 0, 0, 0, 1, 1, 1, 1, 1, 1, 1]),\n",
       " array([2, 2, 2, 2, 2, 2, 2, 3, 3, 3, 3, 3, 3, 3, 2, 2, 2, 2, 2, 2, 2, 3,\n",
       "        3, 3, 3, 3, 3, 3, 2, 2, 2, 2, 2, 2, 2, 3, 3, 3, 3, 3, 3, 3]),\n",
       " array([4, 4, 4, 4, 4, 4, 4, 5, 5, 5, 5, 5, 5, 5, 4, 4, 4, 4, 4, 4, 4, 5,\n",
       "        5, 5, 5, 5, 5, 5, 4, 4, 4, 4, 4, 4, 4, 5, 5, 5, 5, 5, 5, 5]),\n",
       " array([6, 6, 6, 6, 6, 6, 6, 7, 7, 7, 7, 7, 7, 7, 6, 6, 6, 6, 6, 6, 6, 7,\n",
       "        7, 7, 7, 7, 7, 7, 6, 6, 6, 6, 6, 6, 6, 7, 7, 7, 7, 7, 7, 7]))"
      ]
     },
     "execution_count": 3,
     "metadata": {},
     "output_type": "execute_result"
    }
   ],
   "source": [
    "test_response = np.array([np.array([0,1,0,1,0,1]),np.array([2,3,2,3,2,3]), np.array([4,5,4,5,4,5]),np.array([6,7,6,7,6,7])])\n",
    "test_response = test_response.repeat(7,axis=1)\n",
    "test_response = tuple(test_response)\n",
    "test_response"
   ]
  },
  {
   "cell_type": "code",
   "execution_count": 3,
   "id": "15e85d87-bd68-4a07-9e2e-37a60402c4f2",
   "metadata": {},
   "outputs": [],
   "source": [
    "# Input params\n",
    "popsize = 2\n",
    "repetitions = 3\n",
    "soft_reps = 1\n",
    "acquisitions_per_cycle = 7\n",
    "qubits = ['D1', 'D2']\n",
    "num_qubits = len(qubits)\n",
    "\n"
   ]
  },
  {
   "cell_type": "code",
   "execution_count": 4,
   "id": "29dd8de8-99d0-4bcb-ac48-0e26efbf59e0",
   "metadata": {},
   "outputs": [
    {
     "data": {
      "text/plain": [
       "57"
      ]
     },
     "execution_count": 4,
     "metadata": {},
     "output_type": "execute_result"
    }
   ],
   "source": [
    "12345%512"
   ]
  },
  {
   "cell_type": "code",
   "execution_count": 3,
   "id": "8e12ae4a-b69b-491f-a9ae-e6ece8619afb",
   "metadata": {},
   "outputs": [
    {
     "name": "stdout",
     "output_type": "stream",
     "text": [
      "[2. 2. 2.]\n"
     ]
    }
   ],
   "source": [
    "a = np.ones(3)\n",
    "b = np.ones(3)\n",
    "\n",
    "print(a+b)"
   ]
  },
  {
   "cell_type": "code",
   "execution_count": 12,
   "id": "f9121cec-4bb5-426d-bf4f-e3c2e349491b",
   "metadata": {},
   "outputs": [
    {
     "name": "stdout",
     "output_type": "stream",
     "text": [
      "219051\n",
      "3.0\n",
      "1.1169590643274854\n"
     ]
    }
   ],
   "source": [
    "maximum = 7*512*30\n",
    "\n",
    "reps = 513\n",
    "popsize = 61\n",
    "total_mem = 7*reps*popsize\n",
    "\n",
    "print(total_mem) \n",
    "print(np.ceil(total_mem/maximum))\n",
    "print((total_mem % maximum)/(7*reps))"
   ]
  },
  {
   "cell_type": "code",
   "execution_count": 15,
   "id": "214d8890-0ab5-4996-a6ec-9f0e0ec0382d",
   "metadata": {},
   "outputs": [
    {
     "data": {
      "text/plain": [
       "[15, 15]"
      ]
     },
     "execution_count": 15,
     "metadata": {},
     "output_type": "execute_result"
    }
   ],
   "source": [
    "reps = 1000\n",
    "popsize = 30\n",
    "\n",
    "def get_batch_sizes(reps, popsize, max_mem=7*512*30):\n",
    "    mem_per_individual = 7 * reps\n",
    "    max_pop_per_batch = int(np.floor(max_mem / mem_per_individual))\n",
    "    \n",
    "    batch_sizes = []\n",
    "    remaining = popsize\n",
    "    while remaining > 0:\n",
    "        batch = min(max_pop_per_batch, remaining)\n",
    "        batch_sizes.append(batch)\n",
    "        remaining -= batch\n",
    "    \n",
    "    return batch_sizes\n",
    "\n",
    "get_batch_sizes(reps,popsize)"
   ]
  },
  {
   "cell_type": "code",
   "execution_count": 16,
   "id": "1da7c47a-43ed-4265-b4fb-f50489ca75aa",
   "metadata": {},
   "outputs": [
    {
     "data": {
      "text/plain": [
       "105000"
      ]
     },
     "execution_count": 16,
     "metadata": {},
     "output_type": "execute_result"
    }
   ],
   "source": [
    "7*15*1000"
   ]
  },
  {
   "cell_type": "code",
   "execution_count": 17,
   "id": "1f9da07f-435b-4cd4-a388-386744748a6b",
   "metadata": {},
   "outputs": [
    {
     "data": {
      "text/plain": [
       "107520"
      ]
     },
     "execution_count": 17,
     "metadata": {},
     "output_type": "execute_result"
    }
   ],
   "source": [
    "7*512*30"
   ]
  },
  {
   "cell_type": "code",
   "execution_count": 23,
   "id": "bfd7e429-6907-499e-9370-f2e3a459165f",
   "metadata": {},
   "outputs": [
    {
     "data": {
      "text/plain": [
       "array([1, 2, 3])"
      ]
     },
     "execution_count": 23,
     "metadata": {},
     "output_type": "execute_result"
    }
   ],
   "source": [
    "population_test = np.array([np.array([1,2,3]),np.array([2,2,3]),np.array([3,2,3]),np.array([4,2,3]), np.array([4,2,3])])\n",
    "\n",
    "batched = [2,2,1]\n",
    "\n",
    "\n",
    "def batch_population(population, batched):\n",
    "    population_batched = []\n",
    "    start = 0\n",
    "    for size in batched:\n",
    "        end = start + size\n",
    "        population_batched.append(population[start:end])\n",
    "        start = end\n",
    "    return population_batched\n",
    "\n",
    "population_batched = batch_population(population_test, batched)\n",
    "population_batched[0]"
   ]
  },
  {
   "cell_type": "code",
   "execution_count": 4,
   "id": "7c75957f-06b8-4c4a-a35e-44e48d65ba95",
   "metadata": {},
   "outputs": [
    {
     "data": {
      "text/html": [
       "<div><svg style=\"position: absolute; width: 0; height: 0; overflow: hidden\">\n",
       "<defs>\n",
       "<symbol id=\"icon-database\" viewBox=\"0 0 32 32\">\n",
       "<path d=\"M16 0c-8.837 0-16 2.239-16 5v4c0 2.761 7.163 5 16 5s16-2.239 16-5v-4c0-2.761-7.163-5-16-5z\"></path>\n",
       "<path d=\"M16 17c-8.837 0-16-2.239-16-5v6c0 2.761 7.163 5 16 5s16-2.239 16-5v-6c0 2.761-7.163 5-16 5z\"></path>\n",
       "<path d=\"M16 26c-8.837 0-16-2.239-16-5v6c0 2.761 7.163 5 16 5s16-2.239 16-5v-6c0 2.761-7.163 5-16 5z\"></path>\n",
       "</symbol>\n",
       "<symbol id=\"icon-file-text2\" viewBox=\"0 0 32 32\">\n",
       "<path d=\"M28.681 7.159c-0.694-0.947-1.662-2.053-2.724-3.116s-2.169-2.030-3.116-2.724c-1.612-1.182-2.393-1.319-2.841-1.319h-15.5c-1.378 0-2.5 1.121-2.5 2.5v27c0 1.378 1.122 2.5 2.5 2.5h23c1.378 0 2.5-1.122 2.5-2.5v-19.5c0-0.448-0.137-1.23-1.319-2.841zM24.543 5.457c0.959 0.959 1.712 1.825 2.268 2.543h-4.811v-4.811c0.718 0.556 1.584 1.309 2.543 2.268zM28 29.5c0 0.271-0.229 0.5-0.5 0.5h-23c-0.271 0-0.5-0.229-0.5-0.5v-27c0-0.271 0.229-0.5 0.5-0.5 0 0 15.499-0 15.5 0v7c0 0.552 0.448 1 1 1h7v19.5z\"></path>\n",
       "<path d=\"M23 26h-14c-0.552 0-1-0.448-1-1s0.448-1 1-1h14c0.552 0 1 0.448 1 1s-0.448 1-1 1z\"></path>\n",
       "<path d=\"M23 22h-14c-0.552 0-1-0.448-1-1s0.448-1 1-1h14c0.552 0 1 0.448 1 1s-0.448 1-1 1z\"></path>\n",
       "<path d=\"M23 18h-14c-0.552 0-1-0.448-1-1s0.448-1 1-1h14c0.552 0 1 0.448 1 1s-0.448 1-1 1z\"></path>\n",
       "</symbol>\n",
       "</defs>\n",
       "</svg>\n",
       "<style>/* CSS stylesheet for displaying xarray objects in jupyterlab.\n",
       " *\n",
       " */\n",
       "\n",
       ":root {\n",
       "  --xr-font-color0: var(--jp-content-font-color0, rgba(0, 0, 0, 1));\n",
       "  --xr-font-color2: var(--jp-content-font-color2, rgba(0, 0, 0, 0.54));\n",
       "  --xr-font-color3: var(--jp-content-font-color3, rgba(0, 0, 0, 0.38));\n",
       "  --xr-border-color: var(--jp-border-color2, #e0e0e0);\n",
       "  --xr-disabled-color: var(--jp-layout-color3, #bdbdbd);\n",
       "  --xr-background-color: var(--jp-layout-color0, white);\n",
       "  --xr-background-color-row-even: var(--jp-layout-color1, white);\n",
       "  --xr-background-color-row-odd: var(--jp-layout-color2, #eeeeee);\n",
       "}\n",
       "\n",
       "html[theme=\"dark\"],\n",
       "html[data-theme=\"dark\"],\n",
       "body[data-theme=\"dark\"],\n",
       "body.vscode-dark {\n",
       "  --xr-font-color0: rgba(255, 255, 255, 1);\n",
       "  --xr-font-color2: rgba(255, 255, 255, 0.54);\n",
       "  --xr-font-color3: rgba(255, 255, 255, 0.38);\n",
       "  --xr-border-color: #1f1f1f;\n",
       "  --xr-disabled-color: #515151;\n",
       "  --xr-background-color: #111111;\n",
       "  --xr-background-color-row-even: #111111;\n",
       "  --xr-background-color-row-odd: #313131;\n",
       "}\n",
       "\n",
       ".xr-wrap {\n",
       "  display: block !important;\n",
       "  min-width: 300px;\n",
       "  max-width: 700px;\n",
       "}\n",
       "\n",
       ".xr-text-repr-fallback {\n",
       "  /* fallback to plain text repr when CSS is not injected (untrusted notebook) */\n",
       "  display: none;\n",
       "}\n",
       "\n",
       ".xr-header {\n",
       "  padding-top: 6px;\n",
       "  padding-bottom: 6px;\n",
       "  margin-bottom: 4px;\n",
       "  border-bottom: solid 1px var(--xr-border-color);\n",
       "}\n",
       "\n",
       ".xr-header > div,\n",
       ".xr-header > ul {\n",
       "  display: inline;\n",
       "  margin-top: 0;\n",
       "  margin-bottom: 0;\n",
       "}\n",
       "\n",
       ".xr-obj-type,\n",
       ".xr-array-name {\n",
       "  margin-left: 2px;\n",
       "  margin-right: 10px;\n",
       "}\n",
       "\n",
       ".xr-obj-type {\n",
       "  color: var(--xr-font-color2);\n",
       "}\n",
       "\n",
       ".xr-sections {\n",
       "  padding-left: 0 !important;\n",
       "  display: grid;\n",
       "  grid-template-columns: 150px auto auto 1fr 0 20px 0 20px;\n",
       "}\n",
       "\n",
       ".xr-section-item {\n",
       "  display: contents;\n",
       "}\n",
       "\n",
       ".xr-section-item input {\n",
       "  display: inline-block;\n",
       "  opacity: 0;\n",
       "  height: 0;\n",
       "}\n",
       "\n",
       ".xr-section-item input + label {\n",
       "  color: var(--xr-disabled-color);\n",
       "}\n",
       "\n",
       ".xr-section-item input:enabled + label {\n",
       "  cursor: pointer;\n",
       "  color: var(--xr-font-color2);\n",
       "}\n",
       "\n",
       ".xr-section-item input:focus + label {\n",
       "  border: 2px solid var(--xr-font-color0);\n",
       "}\n",
       "\n",
       ".xr-section-item input:enabled + label:hover {\n",
       "  color: var(--xr-font-color0);\n",
       "}\n",
       "\n",
       ".xr-section-summary {\n",
       "  grid-column: 1;\n",
       "  color: var(--xr-font-color2);\n",
       "  font-weight: 500;\n",
       "}\n",
       "\n",
       ".xr-section-summary > span {\n",
       "  display: inline-block;\n",
       "  padding-left: 0.5em;\n",
       "}\n",
       "\n",
       ".xr-section-summary-in:disabled + label {\n",
       "  color: var(--xr-font-color2);\n",
       "}\n",
       "\n",
       ".xr-section-summary-in + label:before {\n",
       "  display: inline-block;\n",
       "  content: \"►\";\n",
       "  font-size: 11px;\n",
       "  width: 15px;\n",
       "  text-align: center;\n",
       "}\n",
       "\n",
       ".xr-section-summary-in:disabled + label:before {\n",
       "  color: var(--xr-disabled-color);\n",
       "}\n",
       "\n",
       ".xr-section-summary-in:checked + label:before {\n",
       "  content: \"▼\";\n",
       "}\n",
       "\n",
       ".xr-section-summary-in:checked + label > span {\n",
       "  display: none;\n",
       "}\n",
       "\n",
       ".xr-section-summary,\n",
       ".xr-section-inline-details {\n",
       "  padding-top: 4px;\n",
       "  padding-bottom: 4px;\n",
       "}\n",
       "\n",
       ".xr-section-inline-details {\n",
       "  grid-column: 2 / -1;\n",
       "}\n",
       "\n",
       ".xr-section-details {\n",
       "  display: none;\n",
       "  grid-column: 1 / -1;\n",
       "  margin-bottom: 5px;\n",
       "}\n",
       "\n",
       ".xr-section-summary-in:checked ~ .xr-section-details {\n",
       "  display: contents;\n",
       "}\n",
       "\n",
       ".xr-array-wrap {\n",
       "  grid-column: 1 / -1;\n",
       "  display: grid;\n",
       "  grid-template-columns: 20px auto;\n",
       "}\n",
       "\n",
       ".xr-array-wrap > label {\n",
       "  grid-column: 1;\n",
       "  vertical-align: top;\n",
       "}\n",
       "\n",
       ".xr-preview {\n",
       "  color: var(--xr-font-color3);\n",
       "}\n",
       "\n",
       ".xr-array-preview,\n",
       ".xr-array-data {\n",
       "  padding: 0 5px !important;\n",
       "  grid-column: 2;\n",
       "}\n",
       "\n",
       ".xr-array-data,\n",
       ".xr-array-in:checked ~ .xr-array-preview {\n",
       "  display: none;\n",
       "}\n",
       "\n",
       ".xr-array-in:checked ~ .xr-array-data,\n",
       ".xr-array-preview {\n",
       "  display: inline-block;\n",
       "}\n",
       "\n",
       ".xr-dim-list {\n",
       "  display: inline-block !important;\n",
       "  list-style: none;\n",
       "  padding: 0 !important;\n",
       "  margin: 0;\n",
       "}\n",
       "\n",
       ".xr-dim-list li {\n",
       "  display: inline-block;\n",
       "  padding: 0;\n",
       "  margin: 0;\n",
       "}\n",
       "\n",
       ".xr-dim-list:before {\n",
       "  content: \"(\";\n",
       "}\n",
       "\n",
       ".xr-dim-list:after {\n",
       "  content: \")\";\n",
       "}\n",
       "\n",
       ".xr-dim-list li:not(:last-child):after {\n",
       "  content: \",\";\n",
       "  padding-right: 5px;\n",
       "}\n",
       "\n",
       ".xr-has-index {\n",
       "  font-weight: bold;\n",
       "}\n",
       "\n",
       ".xr-var-list,\n",
       ".xr-var-item {\n",
       "  display: contents;\n",
       "}\n",
       "\n",
       ".xr-var-item > div,\n",
       ".xr-var-item label,\n",
       ".xr-var-item > .xr-var-name span {\n",
       "  background-color: var(--xr-background-color-row-even);\n",
       "  margin-bottom: 0;\n",
       "}\n",
       "\n",
       ".xr-var-item > .xr-var-name:hover span {\n",
       "  padding-right: 5px;\n",
       "}\n",
       "\n",
       ".xr-var-list > li:nth-child(odd) > div,\n",
       ".xr-var-list > li:nth-child(odd) > label,\n",
       ".xr-var-list > li:nth-child(odd) > .xr-var-name span {\n",
       "  background-color: var(--xr-background-color-row-odd);\n",
       "}\n",
       "\n",
       ".xr-var-name {\n",
       "  grid-column: 1;\n",
       "}\n",
       "\n",
       ".xr-var-dims {\n",
       "  grid-column: 2;\n",
       "}\n",
       "\n",
       ".xr-var-dtype {\n",
       "  grid-column: 3;\n",
       "  text-align: right;\n",
       "  color: var(--xr-font-color2);\n",
       "}\n",
       "\n",
       ".xr-var-preview {\n",
       "  grid-column: 4;\n",
       "}\n",
       "\n",
       ".xr-index-preview {\n",
       "  grid-column: 2 / 5;\n",
       "  color: var(--xr-font-color2);\n",
       "}\n",
       "\n",
       ".xr-var-name,\n",
       ".xr-var-dims,\n",
       ".xr-var-dtype,\n",
       ".xr-preview,\n",
       ".xr-attrs dt {\n",
       "  white-space: nowrap;\n",
       "  overflow: hidden;\n",
       "  text-overflow: ellipsis;\n",
       "  padding-right: 10px;\n",
       "}\n",
       "\n",
       ".xr-var-name:hover,\n",
       ".xr-var-dims:hover,\n",
       ".xr-var-dtype:hover,\n",
       ".xr-attrs dt:hover {\n",
       "  overflow: visible;\n",
       "  width: auto;\n",
       "  z-index: 1;\n",
       "}\n",
       "\n",
       ".xr-var-attrs,\n",
       ".xr-var-data,\n",
       ".xr-index-data {\n",
       "  display: none;\n",
       "  background-color: var(--xr-background-color) !important;\n",
       "  padding-bottom: 5px !important;\n",
       "}\n",
       "\n",
       ".xr-var-attrs-in:checked ~ .xr-var-attrs,\n",
       ".xr-var-data-in:checked ~ .xr-var-data,\n",
       ".xr-index-data-in:checked ~ .xr-index-data {\n",
       "  display: block;\n",
       "}\n",
       "\n",
       ".xr-var-data > table {\n",
       "  float: right;\n",
       "}\n",
       "\n",
       ".xr-var-name span,\n",
       ".xr-var-data,\n",
       ".xr-index-name div,\n",
       ".xr-index-data,\n",
       ".xr-attrs {\n",
       "  padding-left: 25px !important;\n",
       "}\n",
       "\n",
       ".xr-attrs,\n",
       ".xr-var-attrs,\n",
       ".xr-var-data,\n",
       ".xr-index-data {\n",
       "  grid-column: 1 / -1;\n",
       "}\n",
       "\n",
       "dl.xr-attrs {\n",
       "  padding: 0;\n",
       "  margin: 0;\n",
       "  display: grid;\n",
       "  grid-template-columns: 125px auto;\n",
       "}\n",
       "\n",
       ".xr-attrs dt,\n",
       ".xr-attrs dd {\n",
       "  padding: 0;\n",
       "  margin: 0;\n",
       "  float: left;\n",
       "  padding-right: 10px;\n",
       "  width: auto;\n",
       "}\n",
       "\n",
       ".xr-attrs dt {\n",
       "  font-weight: normal;\n",
       "  grid-column: 1;\n",
       "}\n",
       "\n",
       ".xr-attrs dt:hover span {\n",
       "  display: inline-block;\n",
       "  background: var(--xr-background-color);\n",
       "  padding-right: 10px;\n",
       "}\n",
       "\n",
       ".xr-attrs dd {\n",
       "  grid-column: 2;\n",
       "  white-space: pre-wrap;\n",
       "  word-break: break-all;\n",
       "}\n",
       "\n",
       ".xr-icon-database,\n",
       ".xr-icon-file-text2,\n",
       ".xr-no-icon {\n",
       "  display: inline-block;\n",
       "  vertical-align: middle;\n",
       "  width: 1em;\n",
       "  height: 1.5em !important;\n",
       "  stroke-width: 0;\n",
       "  stroke: currentColor;\n",
       "  fill: currentColor;\n",
       "}\n",
       "</style><pre class='xr-text-repr-fallback'>&lt;xarray.Dataset&gt; Size: 40B\n",
       "Dimensions:  (dim_0: 2)\n",
       "Coordinates:\n",
       "    x0       (dim_0) &lt;U3 24B &#x27;010&#x27; &#x27;000&#x27;\n",
       "Dimensions without coordinates: dim_0\n",
       "Data variables:\n",
       "    y0       (dim_0) float64 16B 10.0 0.0\n",
       "Attributes:\n",
       "    tuid:                             20250310-133724-427-c941d4\n",
       "    name:                             test output state from input state\n",
       "    grid_2d:                          False\n",
       "    grid_2d_uniformly_spaced:         False\n",
       "    1d_2_settables_uniformly_spaced:  False</pre><div class='xr-wrap' style='display:none'><div class='xr-header'><div class='xr-obj-type'>xarray.Dataset</div></div><ul class='xr-sections'><li class='xr-section-item'><input id='section-0c5ce2f7-ea4f-43fb-9e33-65911e5d5664' class='xr-section-summary-in' type='checkbox' disabled ><label for='section-0c5ce2f7-ea4f-43fb-9e33-65911e5d5664' class='xr-section-summary'  title='Expand/collapse section'>Dimensions:</label><div class='xr-section-inline-details'><ul class='xr-dim-list'><li><span>dim_0</span>: 2</li></ul></div><div class='xr-section-details'></div></li><li class='xr-section-item'><input id='section-61ec1475-026f-4178-9958-d1357515bbb7' class='xr-section-summary-in' type='checkbox'  checked><label for='section-61ec1475-026f-4178-9958-d1357515bbb7' class='xr-section-summary' >Coordinates: <span>(1)</span></label><div class='xr-section-inline-details'></div><div class='xr-section-details'><ul class='xr-var-list'><li class='xr-var-item'><div class='xr-var-name'><span>x0</span></div><div class='xr-var-dims'>(dim_0)</div><div class='xr-var-dtype'>&lt;U3</div><div class='xr-var-preview xr-preview'>&#x27;010&#x27; &#x27;000&#x27;</div><input id='attrs-e357a4f2-ba73-44f1-b71f-1f0c53309883' class='xr-var-attrs-in' type='checkbox' ><label for='attrs-e357a4f2-ba73-44f1-b71f-1f0c53309883' title='Show/Hide attributes'><svg class='icon xr-icon-file-text2'><use xlink:href='#icon-file-text2'></use></svg></label><input id='data-055a00d4-1216-46d9-81c2-d8bb2ef7d586' class='xr-var-data-in' type='checkbox'><label for='data-055a00d4-1216-46d9-81c2-d8bb2ef7d586' title='Show/Hide data repr'><svg class='icon xr-icon-database'><use xlink:href='#icon-database'></use></svg></label><div class='xr-var-attrs'><dl class='xr-attrs'><dt><span>name :</span></dt><dd>Measure_state.prep_state</dd><dt><span>long_name :</span></dt><dd>Measure_state Prepared state</dd><dt><span>units :</span></dt><dd>[-]</dd><dt><span>batched :</span></dt><dd>False</dd></dl></div><div class='xr-var-data'><pre>array([&#x27;010&#x27;, &#x27;000&#x27;], dtype=&#x27;&lt;U3&#x27;)</pre></div></li></ul></div></li><li class='xr-section-item'><input id='section-70883daf-7022-403d-b8e0-bca3dda8a9b9' class='xr-section-summary-in' type='checkbox'  checked><label for='section-70883daf-7022-403d-b8e0-bca3dda8a9b9' class='xr-section-summary' >Data variables: <span>(1)</span></label><div class='xr-section-inline-details'></div><div class='xr-section-details'><ul class='xr-var-list'><li class='xr-var-item'><div class='xr-var-name'><span>y0</span></div><div class='xr-var-dims'>(dim_0)</div><div class='xr-var-dtype'>float64</div><div class='xr-var-preview xr-preview'>10.0 0.0</div><input id='attrs-fbc898a9-b225-443c-9ed1-dbb38aa9722d' class='xr-var-attrs-in' type='checkbox' ><label for='attrs-fbc898a9-b225-443c-9ed1-dbb38aa9722d' title='Show/Hide attributes'><svg class='icon xr-icon-file-text2'><use xlink:href='#icon-file-text2'></use></svg></label><input id='data-75c33d73-2ea3-4b5b-8181-00d10fd11a9c' class='xr-var-data-in' type='checkbox'><label for='data-75c33d73-2ea3-4b5b-8181-00d10fd11a9c' title='Show/Hide data repr'><svg class='icon xr-icon-database'><use xlink:href='#icon-database'></use></svg></label><div class='xr-var-attrs'><dl class='xr-attrs'><dt><span>name :</span></dt><dd>out_states</dd><dt><span>long_name :</span></dt><dd>Output states</dd><dt><span>units :</span></dt><dd>[-]</dd><dt><span>batched :</span></dt><dd>False</dd></dl></div><div class='xr-var-data'><pre>array([10.,  0.])</pre></div></li></ul></div></li><li class='xr-section-item'><input id='section-4b7c7b0e-bc83-4b94-bed8-cb5bd9002aa6' class='xr-section-summary-in' type='checkbox' disabled ><label for='section-4b7c7b0e-bc83-4b94-bed8-cb5bd9002aa6' class='xr-section-summary'  title='Expand/collapse section'>Indexes: <span>(0)</span></label><div class='xr-section-inline-details'></div><div class='xr-section-details'><ul class='xr-var-list'></ul></div></li><li class='xr-section-item'><input id='section-7c1e4f7d-324a-41c5-8e87-3bc7bd304d29' class='xr-section-summary-in' type='checkbox'  checked><label for='section-7c1e4f7d-324a-41c5-8e87-3bc7bd304d29' class='xr-section-summary' >Attributes: <span>(5)</span></label><div class='xr-section-inline-details'></div><div class='xr-section-details'><dl class='xr-attrs'><dt><span>tuid :</span></dt><dd>20250310-133724-427-c941d4</dd><dt><span>name :</span></dt><dd>test output state from input state</dd><dt><span>grid_2d :</span></dt><dd>False</dd><dt><span>grid_2d_uniformly_spaced :</span></dt><dd>False</dd><dt><span>1d_2_settables_uniformly_spaced :</span></dt><dd>False</dd></dl></div></li></ul></div></div>"
      ],
      "text/plain": [
       "<xarray.Dataset> Size: 40B\n",
       "Dimensions:  (dim_0: 2)\n",
       "Coordinates:\n",
       "    x0       (dim_0) <U3 24B '010' '000'\n",
       "Dimensions without coordinates: dim_0\n",
       "Data variables:\n",
       "    y0       (dim_0) float64 16B 10.0 0.0\n",
       "Attributes:\n",
       "    tuid:                             20250310-133724-427-c941d4\n",
       "    name:                             test output state from input state\n",
       "    grid_2d:                          False\n",
       "    grid_2d_uniformly_spaced:         False\n",
       "    1d_2_settables_uniformly_spaced:  False"
      ]
     },
     "execution_count": 4,
     "metadata": {},
     "output_type": "execute_result"
    }
   ],
   "source": [
    "tuid = \"20250310-133724-427-c941d4\" #\"20250122-151004-773-a762e7\"\n",
    "\n",
    "dataset = load_dataset(tuid=tuid)\n",
    "dataset"
   ]
  },
  {
   "cell_type": "code",
   "execution_count": 30,
   "id": "44d8dad2-fdba-4760-91c1-2239e1eb1d5a",
   "metadata": {},
   "outputs": [],
   "source": [
    "def get_batch_sizes(repetitions, popsize, max_mem=7 * 512 * 30):\n",
    "    mem_per_individual = 7 * repetitions\n",
    "    max_pop_per_batch = int(np.floor(max_mem / mem_per_individual))\n",
    "\n",
    "    batch_sizes = []\n",
    "    remaining = popsize\n",
    "    while remaining > 0:\n",
    "        batch = min(max_pop_per_batch, remaining)\n",
    "        batch_sizes.append(batch)\n",
    "        remaining -= batch\n",
    "\n",
    "    return batch_sizes\n",
    "\n",
    "def batched_population(population, batch_sizes):\n",
    "    population_batched = []\n",
    "    start = 0\n",
    "    for size in batch_sizes:\n",
    "        end = start + size\n",
    "        population_batched.append(population[start:end])\n",
    "        start = end\n",
    "    return population_batched\n",
    "\n",
    "batch_sizes = get_batch_sizes(513, 101)"
   ]
  },
  {
   "cell_type": "code",
   "execution_count": 31,
   "id": "8e91231f-d6d5-4569-840a-d236174c28b1",
   "metadata": {},
   "outputs": [
    {
     "name": "stdout",
     "output_type": "stream",
     "text": [
      "[ 0  1  2  3  4  5  6  7  8  9 10 11 12 13 14 15 16 17 18 19 20 21 22 23\n",
      " 24 25 26 27 28]\n",
      "29\n",
      "[29 30 31 32 33 34 35 36 37 38 39 40 41 42 43 44 45 46 47 48 49 50 51 52\n",
      " 53 54 55 56 57]\n",
      "29\n",
      "[58 59 60 61 62 63 64 65 66 67 68 69 70 71 72 73 74 75 76 77 78 79 80 81\n",
      " 82 83 84 85 86]\n",
      "29\n",
      "[ 87  88  89  90  91  92  93  94  95  96  97  98  99 100]\n",
      "14\n"
     ]
    }
   ],
   "source": [
    "population = np.arange(513)\n",
    "\n",
    "pop_batched = batched_population(population, batch_sizes)\n",
    "\n",
    "for pop in pop_batched:\n",
    "    print(pop)\n",
    "    print(len(pop))\n",
    "    "
   ]
  },
  {
   "cell_type": "code",
   "execution_count": 32,
   "id": "cc46612b-2e63-4ac8-b38f-751306f94235",
   "metadata": {},
   "outputs": [
    {
     "data": {
      "text/plain": [
       "104139"
      ]
     },
     "execution_count": 32,
     "metadata": {},
     "output_type": "execute_result"
    }
   ],
   "source": [
    "7*29*513"
   ]
  },
  {
   "cell_type": "code",
   "execution_count": 34,
   "id": "48eda20f-362a-4dd1-98a4-81c6bc3f54c4",
   "metadata": {},
   "outputs": [
    {
     "data": {
      "text/plain": [
       "103936"
      ]
     },
     "execution_count": 34,
     "metadata": {},
     "output_type": "execute_result"
    }
   ],
   "source": [
    "7*29*512"
   ]
  },
  {
   "cell_type": "code",
   "execution_count": 27,
   "id": "b411885a-f703-409c-ac36-6e33b7b39a2c",
   "metadata": {},
   "outputs": [
    {
     "data": {
      "text/plain": [
       "14877"
      ]
     },
     "execution_count": 27,
     "metadata": {},
     "output_type": "execute_result"
    }
   ],
   "source": [
    "513*29"
   ]
  },
  {
   "cell_type": "code",
   "execution_count": 35,
   "id": "445db88c-3008-4b6e-baa5-c425f0878b40",
   "metadata": {},
   "outputs": [
    {
     "data": {
      "text/plain": [
       "10201"
      ]
     },
     "execution_count": 35,
     "metadata": {},
     "output_type": "execute_result"
    }
   ],
   "source": [
    "101*101"
   ]
  },
  {
   "cell_type": "code",
   "execution_count": 2,
   "id": "d919c25b-5d99-40aa-893f-bb940042970e",
   "metadata": {},
   "outputs": [
    {
     "data": {
      "text/plain": [
       "[0.0,\n",
       " 0.0,\n",
       " 0.0,\n",
       " 0.0,\n",
       " 0.0,\n",
       " 0.0,\n",
       " 0.0,\n",
       " 0.0,\n",
       " 0.0,\n",
       " 0.0,\n",
       " 0.0,\n",
       " 0.0,\n",
       " 0.0,\n",
       " 0.0,\n",
       " 0.0,\n",
       " 0.0,\n",
       " 0.0,\n",
       " 0.0,\n",
       " 0.0,\n",
       " 0.0,\n",
       " 0.0,\n",
       " 0.0,\n",
       " 0.0,\n",
       " 0.0,\n",
       " 0.0,\n",
       " 0.0,\n",
       " 0.0]"
      ]
     },
     "execution_count": 2,
     "metadata": {},
     "output_type": "execute_result"
    }
   ],
   "source": [
    "[0.0,0.0,0.0]*9"
   ]
  },
  {
   "cell_type": "code",
   "execution_count": 2,
   "id": "8c609f56-8290-4911-a2a3-9f4cd47bbe27",
   "metadata": {},
   "outputs": [
    {
     "name": "stdout",
     "output_type": "stream",
     "text": [
      "1\n",
      "2\n",
      "3\n",
      "4\n",
      "5\n",
      "6\n"
     ]
    }
   ],
   "source": [
    "\"\"\"\n",
    "Note: Before running we need to extract which pulse parameters to run for\n",
    "\n",
    "TO DO: how long does 1 of these measurements take for all 17 qubits? --> Is 15 mins of waiting time before experiments realistic?\n",
    "\"\"\"\n",
    "interval_time = 10  # 15 minutes in seconds\n",
    "total_runtime = 60  # 48 hours in seconds\n",
    "\n",
    "start_time = time.time()\n",
    "end_time = start_time + total_runtime\n",
    "next_run_time = start_time\n",
    "\n",
    "i=1 \n",
    "\n",
    "try:\n",
    "    while time.time() <= end_time:\n",
    "        print(i)\n",
    "        i+=1\n",
    "        # Schedule the next exact run time\n",
    "        next_run_time += interval_time\n",
    "\n",
    "        # Sleep until the scheduled time (if needed)\n",
    "        time_to_wait = next_run_time - time.time()\n",
    "        if time_to_wait > 0:\n",
    "            time.sleep(time_to_wait)\n",
    "\n",
    "except KeyboardInterrupt:\n",
    "    print(\"\\nStopped by user.\")"
   ]
  },
  {
   "cell_type": "code",
   "execution_count": 9,
   "id": "34d04ef2-6a51-4dee-8715-211fb38e3c32",
   "metadata": {},
   "outputs": [
    {
     "name": "stdout",
     "output_type": "stream",
     "text": [
      "[['F1', 'A1', 'D1', 'F2', 'A2', 'D2'], ['F3', 'A3', 'D3']]\n",
      "[['Q1', 'Q2'], ['Q3']]\n",
      "2\n"
     ]
    }
   ],
   "source": [
    "qubit_names = [\"Q1\",\"Q2\",\"Q3\"]\n",
    "\n",
    "def batch_qubits(qubit_names):\n",
    "    batches = []\n",
    "    for i in range(0, len(qubit_names), 2):\n",
    "        batches.append(qubit_names[i:i+2])\n",
    "    return batches\n",
    "\n",
    "def batch_data(data, qubits_per_batch=2, values_per_qubit=3):\n",
    "    batches = []\n",
    "    # total number of qubits\n",
    "    num_qubits = len(data) // values_per_qubit\n",
    "\n",
    "    for i in range(0, num_qubits, qubits_per_batch):\n",
    "        start = i * values_per_qubit\n",
    "        end = (i + qubits_per_batch) * values_per_qubit\n",
    "        batches.append(data[start:end])\n",
    "\n",
    "    return batches\n",
    "\n",
    "arr = [\"F1\", \"A1\", \"D1\", \"F2\", \"A2\", \"D2\", \"F3\", \"A3\", \"D3\"]\n",
    "\n",
    "print(batch_qubit_data(arr))\n",
    "\n",
    "\n",
    "batched = batch_qubits(qubit_names)\n",
    "\n",
    "print(batched)\n",
    "print(len(batched))"
   ]
  },
  {
   "cell_type": "code",
   "execution_count": 24,
   "id": "1842f59b-f03a-4c9f-9a01-a707b7a0c4ee",
   "metadata": {},
   "outputs": [
    {
     "name": "stdout",
     "output_type": "stream",
     "text": [
      "3\n"
     ]
    }
   ],
   "source": [
    "point = np.array([1,2,3,1,2,3,1,2,3])\n",
    "\n",
    "print(int(len(point)/3))"
   ]
  },
  {
   "cell_type": "code",
   "execution_count": 20,
   "id": "6940bb1e-03b3-48ec-a6fe-d6944c68a5be",
   "metadata": {},
   "outputs": [
    {
     "name": "stdout",
     "output_type": "stream",
     "text": [
      "[array(['F1', 'A1', 'D1', 'F2', 'A2', 'D2'], dtype='<U2'), array(['F3', 'A3', 'D3'], dtype='<U2')]\n"
     ]
    }
   ],
   "source": [
    "data =[np.array([\"F1\", \"A1\", \"D1\", \"F2\", \"A2\", \"D2\", \"F3\", \"A3\", \"D3\"]), np.array([\"F1\", \"A1\", \"D1\", \"F2\", \"A2\", \"D2\", \"F3\", \"A3\", \"D3\"])]\n",
    "\n"
   ]
  },
  {
   "cell_type": "code",
   "execution_count": 28,
   "id": "cca2ee27-da70-4168-b477-fbc0ddf5d407",
   "metadata": {},
   "outputs": [
    {
     "name": "stdout",
     "output_type": "stream",
     "text": [
      "[3. 4.]\n"
     ]
    }
   ],
   "source": [
    "a = np.array([])\n",
    "b = np.array([3,4])\n",
    "\n",
    "c = np.append(a,b)\n",
    "print(c)"
   ]
  },
  {
   "cell_type": "code",
   "execution_count": null,
   "id": "807e4dd5-9623-44c4-82e5-7897fa830931",
   "metadata": {},
   "outputs": [],
   "source": []
  }
 ],
 "metadata": {
  "kernelspec": {
   "display_name": "Python (MEP)",
   "language": "python",
   "name": "mep"
  },
  "language_info": {
   "codemirror_mode": {
    "name": "ipython",
    "version": 3
   },
   "file_extension": ".py",
   "mimetype": "text/x-python",
   "name": "python",
   "nbconvert_exporter": "python",
   "pygments_lexer": "ipython3",
   "version": "3.10.12"
  }
 },
 "nbformat": 4,
 "nbformat_minor": 5
}
