{
 "cells": [
  {
   "cell_type": "code",
   "execution_count": 1,
   "id": "b6b5d4a3-72b7-4700-b6ee-7e180fd43cd7",
   "metadata": {},
   "outputs": [],
   "source": [
    "from quantify_core.data.handling import (\n",
    "    default_datadir,\n",
    "    get_latest_tuid,\n",
    "    load_dataset,\n",
    "    locate_experiment_container,\n",
    "    set_datadir,\n",
    ")\n",
    "\n",
    "import numpy as np\n",
    "import matplotlib.pyplot as plt\n",
    "\n",
    "# np.complex_ = np.complex128  # Monkey-patch to restore compatibility\n",
    "# np.float_ = np.float128  # Monkey-patch to restore compatibility\n",
    "\n"
   ]
  },
  {
   "cell_type": "code",
   "execution_count": 2,
   "id": "1f5bf20e-5007-4fa0-841e-913e0583d750",
   "metadata": {},
   "outputs": [
    {
     "name": "stdout",
     "output_type": "stream",
     "text": [
      "Data will be saved in:\n",
      "/home/pschaefers/quantify-data\n"
     ]
    }
   ],
   "source": [
    "set_datadir(default_datadir())"
   ]
  },
  {
   "cell_type": "code",
   "execution_count": 64,
   "id": "311f6965-2034-45bd-8801-f5d52bf1cfcb",
   "metadata": {},
   "outputs": [],
   "source": [
    "tuid = get_latest_tuid(contains=\"SSRO_10000_1\")\n",
    "dataset1 = load_dataset(tuid)\n",
    "\n",
    "tuid = get_latest_tuid(contains=\"SSRO_10000_2\")\n",
    "dataset2 = load_dataset(tuid)\n",
    "\n",
    "tuid = get_latest_tuid(contains=\"SSRO_10000_3\")\n",
    "dataset3 = load_dataset(tuid)\n"
   ]
  },
  {
   "cell_type": "code",
   "execution_count": 70,
   "id": "bcbe54ee-b99b-45c7-abf8-76f231a4dd04",
   "metadata": {},
   "outputs": [],
   "source": [
    "from qce_utils.control_interfaces.intrf_channel_identifier import QubitIDObj\n",
    "from qce_utils.addon_quantify.object_factories.factory_state_acquisition import (\n",
    "    MultiQubitQNDPiStateClassifierFactory,\n",
    "    MultiQubitQNDPiStateClassifierContainer,\n",
    "    AcquisitionType,\n",
    ")\n",
    "from qce_utils.addon_quantify.deserialize_xarray_to_obj import DeserializeBootstrap\n",
    "\n",
    "object_factory = MultiQubitQNDPiStateClassifierFactory(\n",
    "    acquisition_type=AcquisitionType.THREE_STATE,\n",
    "    use_heralded_post_selection=True,\n",
    ")\n"
   ]
  },
  {
   "cell_type": "code",
   "execution_count": 82,
   "id": "4a1952a5-b22a-47d4-989b-d232aa433843",
   "metadata": {},
   "outputs": [
    {
     "ename": "AttributeError",
     "evalue": "'numpy.ndarray' object has no attribute 'index'",
     "output_type": "error",
     "traceback": [
      "\u001b[0;31m---------------------------------------------------------------------------\u001b[0m",
      "\u001b[0;31mAttributeError\u001b[0m                            Traceback (most recent call last)",
      "Cell \u001b[0;32mIn[82], line 30\u001b[0m\n\u001b[1;32m     25\u001b[0m \u001b[38;5;66;03m# print(unique_strings[np.argmin(counts)])\u001b[39;00m\n\u001b[1;32m     26\u001b[0m \u001b[38;5;66;03m# print(unique_strings[np.argmax(counts)])\u001b[39;00m\n\u001b[1;32m     27\u001b[0m \u001b[38;5;66;03m# print(len(unique_strings))\u001b[39;00m\n\u001b[1;32m     28\u001b[0m \u001b[38;5;66;03m# Convert to integers and sort by Gray code\u001b[39;00m\n\u001b[1;32m     29\u001b[0m sorted_strings \u001b[38;5;241m=\u001b[39m \u001b[38;5;28msorted\u001b[39m(unique_strings, key\u001b[38;5;241m=\u001b[39m\u001b[38;5;28;01mlambda\u001b[39;00m x: int_to_gray(binary_to_int(x)))\n\u001b[0;32m---> 30\u001b[0m sorted_counts \u001b[38;5;241m=\u001b[39m [counts[unique_strings\u001b[38;5;241m.\u001b[39mindex(s)] \u001b[38;5;28;01mfor\u001b[39;00m s \u001b[38;5;129;01min\u001b[39;00m sorted_strings]\n\u001b[1;32m     32\u001b[0m \u001b[38;5;28mprint\u001b[39m(sorted_strings[:\u001b[38;5;241m3\u001b[39m])\n\u001b[1;32m     33\u001b[0m \u001b[38;5;28mprint\u001b[39m(sorted_counts[:\u001b[38;5;241m3\u001b[39m])\n",
      "Cell \u001b[0;32mIn[82], line 30\u001b[0m, in \u001b[0;36m<listcomp>\u001b[0;34m(.0)\u001b[0m\n\u001b[1;32m     25\u001b[0m \u001b[38;5;66;03m# print(unique_strings[np.argmin(counts)])\u001b[39;00m\n\u001b[1;32m     26\u001b[0m \u001b[38;5;66;03m# print(unique_strings[np.argmax(counts)])\u001b[39;00m\n\u001b[1;32m     27\u001b[0m \u001b[38;5;66;03m# print(len(unique_strings))\u001b[39;00m\n\u001b[1;32m     28\u001b[0m \u001b[38;5;66;03m# Convert to integers and sort by Gray code\u001b[39;00m\n\u001b[1;32m     29\u001b[0m sorted_strings \u001b[38;5;241m=\u001b[39m \u001b[38;5;28msorted\u001b[39m(unique_strings, key\u001b[38;5;241m=\u001b[39m\u001b[38;5;28;01mlambda\u001b[39;00m x: int_to_gray(binary_to_int(x)))\n\u001b[0;32m---> 30\u001b[0m sorted_counts \u001b[38;5;241m=\u001b[39m [counts[\u001b[43munique_strings\u001b[49m\u001b[38;5;241;43m.\u001b[39;49m\u001b[43mindex\u001b[49m(s)] \u001b[38;5;28;01mfor\u001b[39;00m s \u001b[38;5;129;01min\u001b[39;00m sorted_strings]\n\u001b[1;32m     32\u001b[0m \u001b[38;5;28mprint\u001b[39m(sorted_strings[:\u001b[38;5;241m3\u001b[39m])\n\u001b[1;32m     33\u001b[0m \u001b[38;5;28mprint\u001b[39m(sorted_counts[:\u001b[38;5;241m3\u001b[39m])\n",
      "\u001b[0;31mAttributeError\u001b[0m: 'numpy.ndarray' object has no attribute 'index'"
     ]
    }
   ],
   "source": [
    " dataset_bootstrap = DeserializeBootstrap(data=dataset1)\n",
    "data_object: MultiQubitQNDPiStateClassifierContainer = object_factory.construct(dataset_bootstrap)\n",
    "\n",
    "qubits = data_object.host_qubit_ids\n",
    "\n",
    "for i in range(len(qubits)):\n",
    "    if i == 0:\n",
    "        container = data_object.get_state_classifier_container(qubit_id=QubitIDObj(qubits[i].id))\n",
    "        result = container.get_heralded_classification().astype(str)\n",
    "    else:\n",
    "        container = data_object.get_state_classifier_container(qubit_id=QubitIDObj(qubits[i].id))\n",
    "        tmp = container.get_heralded_classification()\n",
    "        result = np.char.add(result, tmp.astype(str))\n",
    "        \n",
    "# Count unique occurrences\n",
    "unique_strings, counts = np.unique(result, return_counts=True)\n",
    "\n",
    "# print(unique_strings[np.argmin(counts)])\n",
    "# print(unique_strings[np.argmax(counts)])\n",
    "# print(len(unique_strings))\n",
    "\n",
    "# Plot histogram\n",
    "plt.bar(unique_strings, counts/len(result))\n",
    "plt.hlines(y=0.007, xmin=-0.5, xmax=len(unique_strings) - 0.5, color='r', linestyle='dashed')\n",
    "plt.xlabel(\"Unique Strings\")\n",
    "plt.ylabel(\"Counts\")\n",
    "plt.title(\"Histogram of Unique Strings\")\n",
    "plt.show()"
   ]
  },
  {
   "cell_type": "code",
   "execution_count": null,
   "id": "c9c9b314-6e24-4c65-ba6e-e16da8536c4b",
   "metadata": {},
   "outputs": [],
   "source": []
  }
 ],
 "metadata": {
  "kernelspec": {
   "display_name": "Python (MEP)",
   "language": "python",
   "name": "mep"
  },
  "language_info": {
   "codemirror_mode": {
    "name": "ipython",
    "version": 3
   },
   "file_extension": ".py",
   "mimetype": "text/x-python",
   "name": "python",
   "nbconvert_exporter": "python",
   "pygments_lexer": "ipython3",
   "version": "3.10.12"
  }
 },
 "nbformat": 4,
 "nbformat_minor": 5
}
