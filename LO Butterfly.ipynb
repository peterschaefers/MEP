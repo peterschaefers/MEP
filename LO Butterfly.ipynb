{
 "cells": [
  {
   "cell_type": "code",
   "execution_count": 1,
   "id": "925eef26-546c-43d9-a014-2c3ee41f7a63",
   "metadata": {},
   "outputs": [],
   "source": [
    "from qce_utils.control_interfaces.datastorage_control.analysis_factories.factory_state_classification_butterfly import (\n",
    "    SymbolicDescription,\n",
    "    StateKey,\n",
    ")"
   ]
  },
  {
   "cell_type": "code",
   "execution_count": 2,
   "id": "b833150a-dd6d-468d-ad14-14714101a155",
   "metadata": {},
   "outputs": [],
   "source": [
    "description = SymbolicDescription(included_states=[StateKey.STATE_0, StateKey.STATE_1])"
   ]
  },
  {
   "cell_type": "code",
   "execution_count": 3,
   "id": "114987e7-51c4-4c94-ab30-c8f29bcc8ee4",
   "metadata": {},
   "outputs": [
    {
     "data": {
      "text/plain": [
       "[e_000, e_001, e_010, e_011, e_100, e_101, e_110, e_111]"
      ]
     },
     "execution_count": 3,
     "metadata": {},
     "output_type": "execute_result"
    }
   ],
   "source": [
    "description.symbol_set"
   ]
  },
  {
   "cell_type": "code",
   "execution_count": 4,
   "id": "ce4cf533-c46a-4dad-9762-65be9d4e5a48",
   "metadata": {},
   "outputs": [
    {
     "data": {
      "text/plain": [
       "[e_000**2 + e_000*e_001 + e_001*e_100 + e_001*e_101,\n",
       " e_000*e_010 + e_000*e_011 + e_001*e_110 + e_001*e_111,\n",
       " e_000*e_010 + e_001*e_010 + e_011*e_100 + e_011*e_101,\n",
       " e_010**2 + e_010*e_011 + e_011*e_110 + e_011*e_111,\n",
       " e_000*e_100 + e_001*e_100 + e_100*e_101 + e_101**2,\n",
       " e_010*e_100 + e_011*e_100 + e_101*e_110 + e_101*e_111,\n",
       " e_000*e_110 + e_001*e_110 + e_100*e_111 + e_101*e_111,\n",
       " e_010*e_110 + e_011*e_110 + e_110*e_111 + e_111**2]"
      ]
     },
     "execution_count": 4,
     "metadata": {},
     "output_type": "execute_result"
    }
   ],
   "source": [
    "description.symbolic_expression_vector"
   ]
  },
  {
   "cell_type": "code",
   "execution_count": null,
   "id": "9a9f7fdc-c164-463b-8395-c333c05f0795",
   "metadata": {},
   "outputs": [],
   "source": []
  }
 ],
 "metadata": {
  "kernelspec": {
   "display_name": "Python (MEP)",
   "language": "python",
   "name": "mep"
  },
  "language_info": {
   "codemirror_mode": {
    "name": "ipython",
    "version": 3
   },
   "file_extension": ".py",
   "mimetype": "text/x-python",
   "name": "python",
   "nbconvert_exporter": "python",
   "pygments_lexer": "ipython3",
   "version": "3.10.12"
  }
 },
 "nbformat": 4,
 "nbformat_minor": 5
}
